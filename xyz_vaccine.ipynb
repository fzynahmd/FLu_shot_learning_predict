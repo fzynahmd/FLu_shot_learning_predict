{
  "nbformat": 4,
  "nbformat_minor": 0,
  "metadata": {
    "colab": {
      "provenance": []
    },
    "kernelspec": {
      "name": "python3",
      "display_name": "Python 3"
    },
    "language_info": {
      "name": "python"
    }
  },
  "cells": [
    {
      "cell_type": "code",
      "execution_count": 2,
      "metadata": {
        "id": "cARaFz2qMyLx"
      },
      "outputs": [],
      "source": [
        "import csv\n",
        "import pandas as pd\n",
        "import numpy as np\n",
        "import matplotlib.pyplot as plt"
      ]
    },
    {
      "cell_type": "markdown",
      "source": [
        "# **Reading the data**"
      ],
      "metadata": {
        "id": "Z8nXg4TwNQFL"
      }
    },
    {
      "cell_type": "code",
      "source": [
        "training_features_data=pd.read_csv(\"training_set_features.csv\")\n",
        "training_set_labels=pd.read_csv(\"training_set_labels.csv\")\n",
        "test_features_data=pd.read_csv(\"test_set_features.csv\")"
      ],
      "metadata": {
        "id": "SL0iu9RBNCPG"
      },
      "execution_count": 4,
      "outputs": []
    },
    {
      "cell_type": "code",
      "source": [
        "print(test_features_data.shape)\n",
        "print(training_set_labels.shape)"
      ],
      "metadata": {
        "colab": {
          "base_uri": "https://localhost:8080/"
        },
        "id": "3olB0HGWNrkG",
        "outputId": "2f2d60bc-f879-4a3e-db31-72113c14ba0b"
      },
      "execution_count": 6,
      "outputs": [
        {
          "output_type": "stream",
          "name": "stdout",
          "text": [
            "(26708, 36)\n",
            "(26707, 3)\n"
          ]
        }
      ]
    },
    {
      "cell_type": "markdown",
      "source": [
        "# **Data PreProcessing For Train**"
      ],
      "metadata": {
        "id": "OK7GsZ7TN31h"
      }
    },
    {
      "cell_type": "code",
      "source": [
        "numeric_cols = training_features_data.select_dtypes(include=['number']).columns\n",
        "string_cols = training_features_data.select_dtypes(include=['object']).columns\n",
        "\n",
        "training_features_data[numeric_cols] = training_features_data[numeric_cols].fillna(training_features_data[numeric_cols].mean())\n",
        "\n",
        "\n",
        "training_features_data[string_cols] = training_features_data[string_cols].fillna('out-of-category')"
      ],
      "metadata": {
        "id": "pV2zL-f8Nz96"
      },
      "execution_count": 10,
      "outputs": []
    },
    {
      "cell_type": "code",
      "source": [
        "training_features_data.isna().sum()"
      ],
      "metadata": {
        "colab": {
          "base_uri": "https://localhost:8080/"
        },
        "id": "9YEffrJ_OoK2",
        "outputId": "b1241f18-fcb2-4c6b-fe5a-f9b2bfffb527"
      },
      "execution_count": 12,
      "outputs": [
        {
          "output_type": "execute_result",
          "data": {
            "text/plain": [
              "respondent_id                  0\n",
              "xyz_concern                    0\n",
              "xyz_knowledge                  0\n",
              "behavioral_antiviral_meds      0\n",
              "behavioral_avoidance           0\n",
              "behavioral_face_mask           0\n",
              "behavioral_wash_hands          0\n",
              "behavioral_large_gatherings    0\n",
              "behavioral_outside_home        0\n",
              "behavioral_touch_face          0\n",
              "doctor_recc_xyz                0\n",
              "doctor_recc_seasonal           0\n",
              "chronic_med_condition          0\n",
              "child_under_6_months           0\n",
              "health_worker                  0\n",
              "health_insurance               0\n",
              "opinion_xyz_vacc_effective     0\n",
              "opinion_xyz_risk               0\n",
              "opinion_xyz_sick_from_vacc     0\n",
              "opinion_seas_vacc_effective    0\n",
              "opinion_seas_risk              0\n",
              "opinion_seas_sick_from_vacc    0\n",
              "age_group                      0\n",
              "education                      0\n",
              "race                           0\n",
              "sex                            0\n",
              "income_poverty                 0\n",
              "marital_status                 0\n",
              "rent_or_own                    0\n",
              "employment_status              0\n",
              "hhs_geo_region                 0\n",
              "census_msa                     0\n",
              "household_adults               0\n",
              "household_children             0\n",
              "employment_industry            0\n",
              "employment_occupation          0\n",
              "dtype: int64"
            ]
          },
          "metadata": {},
          "execution_count": 12
        }
      ]
    },
    {
      "cell_type": "code",
      "source": [
        "from sklearn.preprocessing import OrdinalEncoder\n",
        "enc=OrdinalEncoder()\n",
        "enc.fit(training_features_data)\n",
        "training_features_data_arr=enc.transform(training_features_data)\n",
        "col_name_list=training_features_data.columns\n",
        "encoded_categorical_df=pd.DataFrame(training_features_data_arr,columns=col_name_list)"
      ],
      "metadata": {
        "id": "3G2ayh7sPicJ"
      },
      "execution_count": 14,
      "outputs": []
    },
    {
      "cell_type": "code",
      "source": [
        "from sklearn.preprocessing import StandardScaler\n",
        "scaler=StandardScaler()\n",
        "scaler.fit(encoded_categorical_df)\n",
        "normalized_arr=scaler.transform(encoded_categorical_df)\n",
        "\n",
        "normalized_df=pd.DataFrame(normalized_arr,columns=col_name_list)"
      ],
      "metadata": {
        "id": "OnD37AFoQHhN"
      },
      "execution_count": 16,
      "outputs": []
    },
    {
      "cell_type": "markdown",
      "source": [
        "# **Data processing for Test**"
      ],
      "metadata": {
        "id": "KIUOw1WsQk4D"
      }
    },
    {
      "cell_type": "code",
      "source": [
        "test_features_data.info()"
      ],
      "metadata": {
        "colab": {
          "base_uri": "https://localhost:8080/"
        },
        "id": "SqMTbpIXQaba",
        "outputId": "5d0788f5-0604-46ec-9760-c066607e970b"
      },
      "execution_count": 18,
      "outputs": [
        {
          "output_type": "stream",
          "name": "stdout",
          "text": [
            "<class 'pandas.core.frame.DataFrame'>\n",
            "RangeIndex: 26708 entries, 0 to 26707\n",
            "Data columns (total 36 columns):\n",
            " #   Column                       Non-Null Count  Dtype  \n",
            "---  ------                       --------------  -----  \n",
            " 0   respondent_id                26708 non-null  int64  \n",
            " 1   xyz_concern                  26623 non-null  float64\n",
            " 2   xyz_knowledge                26586 non-null  float64\n",
            " 3   behavioral_antiviral_meds    26629 non-null  float64\n",
            " 4   behavioral_avoidance         26495 non-null  float64\n",
            " 5   behavioral_face_mask         26689 non-null  float64\n",
            " 6   behavioral_wash_hands        26668 non-null  float64\n",
            " 7   behavioral_large_gatherings  26636 non-null  float64\n",
            " 8   behavioral_outside_home      26626 non-null  float64\n",
            " 9   behavioral_touch_face        26580 non-null  float64\n",
            " 10  doctor_recc_xyz              24548 non-null  float64\n",
            " 11  doctor_recc_seasonal         24548 non-null  float64\n",
            " 12  chronic_med_condition        25776 non-null  float64\n",
            " 13  child_under_6_months         25895 non-null  float64\n",
            " 14  health_worker                25919 non-null  float64\n",
            " 15  health_insurance             14480 non-null  float64\n",
            " 16  opinion_xyz_vacc_effective   26310 non-null  float64\n",
            " 17  opinion_xyz_risk             26328 non-null  float64\n",
            " 18  opinion_xyz_sick_from_vacc   26333 non-null  float64\n",
            " 19  opinion_seas_vacc_effective  26256 non-null  float64\n",
            " 20  opinion_seas_risk            26209 non-null  float64\n",
            " 21  opinion_seas_sick_from_vacc  26187 non-null  float64\n",
            " 22  age_group                    26708 non-null  object \n",
            " 23  education                    25301 non-null  object \n",
            " 24  race                         26708 non-null  object \n",
            " 25  sex                          26708 non-null  object \n",
            " 26  income_poverty               22211 non-null  object \n",
            " 27  marital_status               25266 non-null  object \n",
            " 28  rent_or_own                  24672 non-null  object \n",
            " 29  employment_status            25237 non-null  object \n",
            " 30  hhs_geo_region               26708 non-null  object \n",
            " 31  census_msa                   26708 non-null  object \n",
            " 32  household_adults             26483 non-null  float64\n",
            " 33  household_children           26483 non-null  float64\n",
            " 34  employment_industry          13433 non-null  object \n",
            " 35  employment_occupation        13282 non-null  object \n",
            "dtypes: float64(23), int64(1), object(12)\n",
            "memory usage: 7.3+ MB\n"
          ]
        }
      ]
    },
    {
      "cell_type": "code",
      "source": [
        "numeric_cols_test = test_features_data.select_dtypes(include=['number']).columns\n",
        "string_cols_test = test_features_data.select_dtypes(include=['object']).columns\n",
        "test_features_data[numeric_cols_test] = test_features_data[numeric_cols].fillna(test_features_data[numeric_cols_test].mean())\n",
        "\n",
        "\n",
        "test_features_data[string_cols_test] = test_features_data[string_cols_test].fillna('out-of-category')"
      ],
      "metadata": {
        "id": "6UyPXhAUQrwj"
      },
      "execution_count": 20,
      "outputs": []
    },
    {
      "cell_type": "code",
      "source": [
        "test_features_data.isna().sum()"
      ],
      "metadata": {
        "colab": {
          "base_uri": "https://localhost:8080/"
        },
        "id": "uY00QuxiRP24",
        "outputId": "05cdd6cf-afb5-42b1-e98a-cdde0e997fb3"
      },
      "execution_count": 22,
      "outputs": [
        {
          "output_type": "execute_result",
          "data": {
            "text/plain": [
              "respondent_id                  0\n",
              "xyz_concern                    0\n",
              "xyz_knowledge                  0\n",
              "behavioral_antiviral_meds      0\n",
              "behavioral_avoidance           0\n",
              "behavioral_face_mask           0\n",
              "behavioral_wash_hands          0\n",
              "behavioral_large_gatherings    0\n",
              "behavioral_outside_home        0\n",
              "behavioral_touch_face          0\n",
              "doctor_recc_xyz                0\n",
              "doctor_recc_seasonal           0\n",
              "chronic_med_condition          0\n",
              "child_under_6_months           0\n",
              "health_worker                  0\n",
              "health_insurance               0\n",
              "opinion_xyz_vacc_effective     0\n",
              "opinion_xyz_risk               0\n",
              "opinion_xyz_sick_from_vacc     0\n",
              "opinion_seas_vacc_effective    0\n",
              "opinion_seas_risk              0\n",
              "opinion_seas_sick_from_vacc    0\n",
              "age_group                      0\n",
              "education                      0\n",
              "race                           0\n",
              "sex                            0\n",
              "income_poverty                 0\n",
              "marital_status                 0\n",
              "rent_or_own                    0\n",
              "employment_status              0\n",
              "hhs_geo_region                 0\n",
              "census_msa                     0\n",
              "household_adults               0\n",
              "household_children             0\n",
              "employment_industry            0\n",
              "employment_occupation          0\n",
              "dtype: int64"
            ]
          },
          "metadata": {},
          "execution_count": 22
        }
      ]
    },
    {
      "cell_type": "code",
      "source": [
        "from sklearn.preprocessing import OrdinalEncoder\n",
        "enc=OrdinalEncoder()\n",
        "enc.fit(test_features_data)\n",
        "test_features_data_arr=enc.transform(test_features_data)\n",
        "col_name_list_test=test_features_data.columns\n",
        "test_encoded_categorical_df=pd.DataFrame(test_features_data_arr,columns=col_name_list_test)"
      ],
      "metadata": {
        "id": "KNpwN7LIRT48"
      },
      "execution_count": 23,
      "outputs": []
    },
    {
      "cell_type": "code",
      "source": [
        "test_encoded_categorical_df.info()"
      ],
      "metadata": {
        "colab": {
          "base_uri": "https://localhost:8080/"
        },
        "id": "By5q4EMXRsT_",
        "outputId": "c440147b-a64c-41f6-ab1f-c9529d3e397f"
      },
      "execution_count": 24,
      "outputs": [
        {
          "output_type": "stream",
          "name": "stdout",
          "text": [
            "<class 'pandas.core.frame.DataFrame'>\n",
            "RangeIndex: 26708 entries, 0 to 26707\n",
            "Data columns (total 36 columns):\n",
            " #   Column                       Non-Null Count  Dtype  \n",
            "---  ------                       --------------  -----  \n",
            " 0   respondent_id                26708 non-null  float64\n",
            " 1   xyz_concern                  26708 non-null  float64\n",
            " 2   xyz_knowledge                26708 non-null  float64\n",
            " 3   behavioral_antiviral_meds    26708 non-null  float64\n",
            " 4   behavioral_avoidance         26708 non-null  float64\n",
            " 5   behavioral_face_mask         26708 non-null  float64\n",
            " 6   behavioral_wash_hands        26708 non-null  float64\n",
            " 7   behavioral_large_gatherings  26708 non-null  float64\n",
            " 8   behavioral_outside_home      26708 non-null  float64\n",
            " 9   behavioral_touch_face        26708 non-null  float64\n",
            " 10  doctor_recc_xyz              26708 non-null  float64\n",
            " 11  doctor_recc_seasonal         26708 non-null  float64\n",
            " 12  chronic_med_condition        26708 non-null  float64\n",
            " 13  child_under_6_months         26708 non-null  float64\n",
            " 14  health_worker                26708 non-null  float64\n",
            " 15  health_insurance             26708 non-null  float64\n",
            " 16  opinion_xyz_vacc_effective   26708 non-null  float64\n",
            " 17  opinion_xyz_risk             26708 non-null  float64\n",
            " 18  opinion_xyz_sick_from_vacc   26708 non-null  float64\n",
            " 19  opinion_seas_vacc_effective  26708 non-null  float64\n",
            " 20  opinion_seas_risk            26708 non-null  float64\n",
            " 21  opinion_seas_sick_from_vacc  26708 non-null  float64\n",
            " 22  age_group                    26708 non-null  float64\n",
            " 23  education                    26708 non-null  float64\n",
            " 24  race                         26708 non-null  float64\n",
            " 25  sex                          26708 non-null  float64\n",
            " 26  income_poverty               26708 non-null  float64\n",
            " 27  marital_status               26708 non-null  float64\n",
            " 28  rent_or_own                  26708 non-null  float64\n",
            " 29  employment_status            26708 non-null  float64\n",
            " 30  hhs_geo_region               26708 non-null  float64\n",
            " 31  census_msa                   26708 non-null  float64\n",
            " 32  household_adults             26708 non-null  float64\n",
            " 33  household_children           26708 non-null  float64\n",
            " 34  employment_industry          26708 non-null  float64\n",
            " 35  employment_occupation        26708 non-null  float64\n",
            "dtypes: float64(36)\n",
            "memory usage: 7.3 MB\n"
          ]
        }
      ]
    },
    {
      "cell_type": "code",
      "source": [
        "test_normalized_arr=scaler.transform(test_encoded_categorical_df)\n",
        "\n",
        "test_normalized_df=pd.DataFrame(test_normalized_arr,columns=col_name_list_test)"
      ],
      "metadata": {
        "id": "NI7OffWTRwT3"
      },
      "execution_count": 25,
      "outputs": []
    },
    {
      "cell_type": "markdown",
      "source": [
        "# **Regression**"
      ],
      "metadata": {
        "id": "m7ZBBKuwR39O"
      }
    },
    {
      "cell_type": "code",
      "source": [
        "from sklearn.metrics import roc_curve, classification_report, roc_auc_score\n",
        "from sklearn.model_selection import train_test_split\n",
        "from sklearn.model_selection import StratifiedShuffleSplit\n",
        "from sklearn.model_selection import GridSearchCV\n",
        "from sklearn.tree import DecisionTreeRegressor\n",
        "from sklearn.svm import SVR\n",
        "from sklearn.pipeline import make_pipeline\n",
        "from sklearn.preprocessing import StandardScaler\n",
        "import numpy as np\n",
        "from sklearn import linear_model\n",
        "from sklearn.linear_model import LogisticRegression\n",
        "from sklearn.linear_model import SGDRegressor\n",
        "from sklearn.ensemble import RandomForestRegressor"
      ],
      "metadata": {
        "id": "FK1pC2SwR3OM"
      },
      "execution_count": 27,
      "outputs": []
    },
    {
      "cell_type": "code",
      "source": [
        "y=training_set_labels.loc[:,'xyz_vaccine'].values\n",
        "X=normalized_df.values"
      ],
      "metadata": {
        "id": "jyCLbwl9R-ht"
      },
      "execution_count": 30,
      "outputs": []
    },
    {
      "cell_type": "code",
      "source": [
        "X_train , X_test , y_train , y_test = train_test_split(X,y,test_size=0.2,stratify=y)\n",
        "cv=StratifiedShuffleSplit(n_splits=5,random_state=42)"
      ],
      "metadata": {
        "id": "23Xhg5gKSa92"
      },
      "execution_count": 31,
      "outputs": []
    },
    {
      "cell_type": "markdown",
      "source": [
        "# Regressor 1: Decision Tree **Regressor**"
      ],
      "metadata": {
        "id": "tkibZH0fSrR7"
      }
    },
    {
      "cell_type": "code",
      "source": [
        "regressor=DecisionTreeRegressor(random_state=0)\n",
        "parameters={\n",
        "    \"criterion\": [\"squared_error\", \"friedman_mse\", \"absolute_error\"],\n",
        "    \"splitter\":['best','random'],\n",
        "\n",
        "}\n",
        "grid=GridSearchCV(estimator=regressor,param_grid=parameters,cv=cv,n_jobs=-1)\n",
        "grid.fit(X_train,y_train)\n",
        "\n",
        "print(\"the best Parameters are %s with score of %0.4f\"\n",
        "      %(grid.best_params_,grid.best_score_))\n",
        "detailed_grid_results=pd.DataFrame(grid.cv_results_)\n",
        "detailed_grid_results"
      ],
      "metadata": {
        "colab": {
          "base_uri": "https://localhost:8080/",
          "height": 483
        },
        "id": "B-xeHPSsS0Nw",
        "outputId": "d1a4b0b7-012e-40ca-980b-208648c7e358"
      },
      "execution_count": 36,
      "outputs": [
        {
          "output_type": "stream",
          "name": "stdout",
          "text": [
            "the best Parameters are {'criterion': 'squared_error', 'splitter': 'random'} with score of -0.3369\n"
          ]
        },
        {
          "output_type": "execute_result",
          "data": {
            "text/plain": [
              "   mean_fit_time  std_fit_time  mean_score_time  std_score_time  \\\n",
              "0       0.339717      0.076840         0.001678        0.000091   \n",
              "1       0.133731      0.003536         0.001723        0.000122   \n",
              "2       0.255094      0.008236         0.001725        0.000163   \n",
              "3       0.132274      0.003102         0.001724        0.000083   \n",
              "4      58.462951      6.804427         0.002267        0.000206   \n",
              "5      31.310907      4.290600         0.003597        0.002726   \n",
              "\n",
              "  param_criterion param_splitter  \\\n",
              "0   squared_error           best   \n",
              "1   squared_error         random   \n",
              "2    friedman_mse           best   \n",
              "3    friedman_mse         random   \n",
              "4  absolute_error           best   \n",
              "5  absolute_error         random   \n",
              "\n",
              "                                              params  split0_test_score  \\\n",
              "0  {'criterion': 'squared_error', 'splitter': 'be...          -0.431972   \n",
              "1  {'criterion': 'squared_error', 'splitter': 'ra...          -0.303318   \n",
              "2  {'criterion': 'friedman_mse', 'splitter': 'best'}          -0.431972   \n",
              "3  {'criterion': 'friedman_mse', 'splitter': 'ran...          -0.356458   \n",
              "4  {'criterion': 'absolute_error', 'splitter': 'b...          -0.624953   \n",
              "5  {'criterion': 'absolute_error', 'splitter': 'r...          -0.574610   \n",
              "\n",
              "   split1_test_score  split2_test_score  split3_test_score  split4_test_score  \\\n",
              "0          -0.395613          -0.317302          -0.376036          -0.252975   \n",
              "1          -0.373239          -0.328490          -0.390020          -0.289334   \n",
              "2          -0.395613          -0.297725          -0.339677          -0.278147   \n",
              "3          -0.434769          -0.308912          -0.392816          -0.367645   \n",
              "4          -0.655718          -0.577407          -0.569016          -0.627749   \n",
              "5          -0.426378          -0.518673          -0.588594          -0.459940   \n",
              "\n",
              "   mean_test_score  std_test_score  rank_test_score  \n",
              "0        -0.354780        0.063002                3  \n",
              "1        -0.336880        0.038995                1  \n",
              "2        -0.348627        0.057953                2  \n",
              "3        -0.372120        0.041506                4  \n",
              "4        -0.610968        0.032760                6  \n",
              "5        -0.513639        0.063022                5  "
            ],
            "text/html": [
              "\n",
              "  <div id=\"df-21e82790-c694-419c-b776-fbac449e32ab\" class=\"colab-df-container\">\n",
              "    <div>\n",
              "<style scoped>\n",
              "    .dataframe tbody tr th:only-of-type {\n",
              "        vertical-align: middle;\n",
              "    }\n",
              "\n",
              "    .dataframe tbody tr th {\n",
              "        vertical-align: top;\n",
              "    }\n",
              "\n",
              "    .dataframe thead th {\n",
              "        text-align: right;\n",
              "    }\n",
              "</style>\n",
              "<table border=\"1\" class=\"dataframe\">\n",
              "  <thead>\n",
              "    <tr style=\"text-align: right;\">\n",
              "      <th></th>\n",
              "      <th>mean_fit_time</th>\n",
              "      <th>std_fit_time</th>\n",
              "      <th>mean_score_time</th>\n",
              "      <th>std_score_time</th>\n",
              "      <th>param_criterion</th>\n",
              "      <th>param_splitter</th>\n",
              "      <th>params</th>\n",
              "      <th>split0_test_score</th>\n",
              "      <th>split1_test_score</th>\n",
              "      <th>split2_test_score</th>\n",
              "      <th>split3_test_score</th>\n",
              "      <th>split4_test_score</th>\n",
              "      <th>mean_test_score</th>\n",
              "      <th>std_test_score</th>\n",
              "      <th>rank_test_score</th>\n",
              "    </tr>\n",
              "  </thead>\n",
              "  <tbody>\n",
              "    <tr>\n",
              "      <th>0</th>\n",
              "      <td>0.339717</td>\n",
              "      <td>0.076840</td>\n",
              "      <td>0.001678</td>\n",
              "      <td>0.000091</td>\n",
              "      <td>squared_error</td>\n",
              "      <td>best</td>\n",
              "      <td>{'criterion': 'squared_error', 'splitter': 'be...</td>\n",
              "      <td>-0.431972</td>\n",
              "      <td>-0.395613</td>\n",
              "      <td>-0.317302</td>\n",
              "      <td>-0.376036</td>\n",
              "      <td>-0.252975</td>\n",
              "      <td>-0.354780</td>\n",
              "      <td>0.063002</td>\n",
              "      <td>3</td>\n",
              "    </tr>\n",
              "    <tr>\n",
              "      <th>1</th>\n",
              "      <td>0.133731</td>\n",
              "      <td>0.003536</td>\n",
              "      <td>0.001723</td>\n",
              "      <td>0.000122</td>\n",
              "      <td>squared_error</td>\n",
              "      <td>random</td>\n",
              "      <td>{'criterion': 'squared_error', 'splitter': 'ra...</td>\n",
              "      <td>-0.303318</td>\n",
              "      <td>-0.373239</td>\n",
              "      <td>-0.328490</td>\n",
              "      <td>-0.390020</td>\n",
              "      <td>-0.289334</td>\n",
              "      <td>-0.336880</td>\n",
              "      <td>0.038995</td>\n",
              "      <td>1</td>\n",
              "    </tr>\n",
              "    <tr>\n",
              "      <th>2</th>\n",
              "      <td>0.255094</td>\n",
              "      <td>0.008236</td>\n",
              "      <td>0.001725</td>\n",
              "      <td>0.000163</td>\n",
              "      <td>friedman_mse</td>\n",
              "      <td>best</td>\n",
              "      <td>{'criterion': 'friedman_mse', 'splitter': 'best'}</td>\n",
              "      <td>-0.431972</td>\n",
              "      <td>-0.395613</td>\n",
              "      <td>-0.297725</td>\n",
              "      <td>-0.339677</td>\n",
              "      <td>-0.278147</td>\n",
              "      <td>-0.348627</td>\n",
              "      <td>0.057953</td>\n",
              "      <td>2</td>\n",
              "    </tr>\n",
              "    <tr>\n",
              "      <th>3</th>\n",
              "      <td>0.132274</td>\n",
              "      <td>0.003102</td>\n",
              "      <td>0.001724</td>\n",
              "      <td>0.000083</td>\n",
              "      <td>friedman_mse</td>\n",
              "      <td>random</td>\n",
              "      <td>{'criterion': 'friedman_mse', 'splitter': 'ran...</td>\n",
              "      <td>-0.356458</td>\n",
              "      <td>-0.434769</td>\n",
              "      <td>-0.308912</td>\n",
              "      <td>-0.392816</td>\n",
              "      <td>-0.367645</td>\n",
              "      <td>-0.372120</td>\n",
              "      <td>0.041506</td>\n",
              "      <td>4</td>\n",
              "    </tr>\n",
              "    <tr>\n",
              "      <th>4</th>\n",
              "      <td>58.462951</td>\n",
              "      <td>6.804427</td>\n",
              "      <td>0.002267</td>\n",
              "      <td>0.000206</td>\n",
              "      <td>absolute_error</td>\n",
              "      <td>best</td>\n",
              "      <td>{'criterion': 'absolute_error', 'splitter': 'b...</td>\n",
              "      <td>-0.624953</td>\n",
              "      <td>-0.655718</td>\n",
              "      <td>-0.577407</td>\n",
              "      <td>-0.569016</td>\n",
              "      <td>-0.627749</td>\n",
              "      <td>-0.610968</td>\n",
              "      <td>0.032760</td>\n",
              "      <td>6</td>\n",
              "    </tr>\n",
              "    <tr>\n",
              "      <th>5</th>\n",
              "      <td>31.310907</td>\n",
              "      <td>4.290600</td>\n",
              "      <td>0.003597</td>\n",
              "      <td>0.002726</td>\n",
              "      <td>absolute_error</td>\n",
              "      <td>random</td>\n",
              "      <td>{'criterion': 'absolute_error', 'splitter': 'r...</td>\n",
              "      <td>-0.574610</td>\n",
              "      <td>-0.426378</td>\n",
              "      <td>-0.518673</td>\n",
              "      <td>-0.588594</td>\n",
              "      <td>-0.459940</td>\n",
              "      <td>-0.513639</td>\n",
              "      <td>0.063022</td>\n",
              "      <td>5</td>\n",
              "    </tr>\n",
              "  </tbody>\n",
              "</table>\n",
              "</div>\n",
              "    <div class=\"colab-df-buttons\">\n",
              "\n",
              "  <div class=\"colab-df-container\">\n",
              "    <button class=\"colab-df-convert\" onclick=\"convertToInteractive('df-21e82790-c694-419c-b776-fbac449e32ab')\"\n",
              "            title=\"Convert this dataframe to an interactive table.\"\n",
              "            style=\"display:none;\">\n",
              "\n",
              "  <svg xmlns=\"http://www.w3.org/2000/svg\" height=\"24px\" viewBox=\"0 -960 960 960\">\n",
              "    <path d=\"M120-120v-720h720v720H120Zm60-500h600v-160H180v160Zm220 220h160v-160H400v160Zm0 220h160v-160H400v160ZM180-400h160v-160H180v160Zm440 0h160v-160H620v160ZM180-180h160v-160H180v160Zm440 0h160v-160H620v160Z\"/>\n",
              "  </svg>\n",
              "    </button>\n",
              "\n",
              "  <style>\n",
              "    .colab-df-container {\n",
              "      display:flex;\n",
              "      gap: 12px;\n",
              "    }\n",
              "\n",
              "    .colab-df-convert {\n",
              "      background-color: #E8F0FE;\n",
              "      border: none;\n",
              "      border-radius: 50%;\n",
              "      cursor: pointer;\n",
              "      display: none;\n",
              "      fill: #1967D2;\n",
              "      height: 32px;\n",
              "      padding: 0 0 0 0;\n",
              "      width: 32px;\n",
              "    }\n",
              "\n",
              "    .colab-df-convert:hover {\n",
              "      background-color: #E2EBFA;\n",
              "      box-shadow: 0px 1px 2px rgba(60, 64, 67, 0.3), 0px 1px 3px 1px rgba(60, 64, 67, 0.15);\n",
              "      fill: #174EA6;\n",
              "    }\n",
              "\n",
              "    .colab-df-buttons div {\n",
              "      margin-bottom: 4px;\n",
              "    }\n",
              "\n",
              "    [theme=dark] .colab-df-convert {\n",
              "      background-color: #3B4455;\n",
              "      fill: #D2E3FC;\n",
              "    }\n",
              "\n",
              "    [theme=dark] .colab-df-convert:hover {\n",
              "      background-color: #434B5C;\n",
              "      box-shadow: 0px 1px 3px 1px rgba(0, 0, 0, 0.15);\n",
              "      filter: drop-shadow(0px 1px 2px rgba(0, 0, 0, 0.3));\n",
              "      fill: #FFFFFF;\n",
              "    }\n",
              "  </style>\n",
              "\n",
              "    <script>\n",
              "      const buttonEl =\n",
              "        document.querySelector('#df-21e82790-c694-419c-b776-fbac449e32ab button.colab-df-convert');\n",
              "      buttonEl.style.display =\n",
              "        google.colab.kernel.accessAllowed ? 'block' : 'none';\n",
              "\n",
              "      async function convertToInteractive(key) {\n",
              "        const element = document.querySelector('#df-21e82790-c694-419c-b776-fbac449e32ab');\n",
              "        const dataTable =\n",
              "          await google.colab.kernel.invokeFunction('convertToInteractive',\n",
              "                                                    [key], {});\n",
              "        if (!dataTable) return;\n",
              "\n",
              "        const docLinkHtml = 'Like what you see? Visit the ' +\n",
              "          '<a target=\"_blank\" href=https://colab.research.google.com/notebooks/data_table.ipynb>data table notebook</a>'\n",
              "          + ' to learn more about interactive tables.';\n",
              "        element.innerHTML = '';\n",
              "        dataTable['output_type'] = 'display_data';\n",
              "        await google.colab.output.renderOutput(dataTable, element);\n",
              "        const docLink = document.createElement('div');\n",
              "        docLink.innerHTML = docLinkHtml;\n",
              "        element.appendChild(docLink);\n",
              "      }\n",
              "    </script>\n",
              "  </div>\n",
              "\n",
              "\n",
              "<div id=\"df-6fb2d2eb-49cd-4cb1-9e6a-cf510d1403d9\">\n",
              "  <button class=\"colab-df-quickchart\" onclick=\"quickchart('df-6fb2d2eb-49cd-4cb1-9e6a-cf510d1403d9')\"\n",
              "            title=\"Suggest charts\"\n",
              "            style=\"display:none;\">\n",
              "\n",
              "<svg xmlns=\"http://www.w3.org/2000/svg\" height=\"24px\"viewBox=\"0 0 24 24\"\n",
              "     width=\"24px\">\n",
              "    <g>\n",
              "        <path d=\"M19 3H5c-1.1 0-2 .9-2 2v14c0 1.1.9 2 2 2h14c1.1 0 2-.9 2-2V5c0-1.1-.9-2-2-2zM9 17H7v-7h2v7zm4 0h-2V7h2v10zm4 0h-2v-4h2v4z\"/>\n",
              "    </g>\n",
              "</svg>\n",
              "  </button>\n",
              "\n",
              "<style>\n",
              "  .colab-df-quickchart {\n",
              "      --bg-color: #E8F0FE;\n",
              "      --fill-color: #1967D2;\n",
              "      --hover-bg-color: #E2EBFA;\n",
              "      --hover-fill-color: #174EA6;\n",
              "      --disabled-fill-color: #AAA;\n",
              "      --disabled-bg-color: #DDD;\n",
              "  }\n",
              "\n",
              "  [theme=dark] .colab-df-quickchart {\n",
              "      --bg-color: #3B4455;\n",
              "      --fill-color: #D2E3FC;\n",
              "      --hover-bg-color: #434B5C;\n",
              "      --hover-fill-color: #FFFFFF;\n",
              "      --disabled-bg-color: #3B4455;\n",
              "      --disabled-fill-color: #666;\n",
              "  }\n",
              "\n",
              "  .colab-df-quickchart {\n",
              "    background-color: var(--bg-color);\n",
              "    border: none;\n",
              "    border-radius: 50%;\n",
              "    cursor: pointer;\n",
              "    display: none;\n",
              "    fill: var(--fill-color);\n",
              "    height: 32px;\n",
              "    padding: 0;\n",
              "    width: 32px;\n",
              "  }\n",
              "\n",
              "  .colab-df-quickchart:hover {\n",
              "    background-color: var(--hover-bg-color);\n",
              "    box-shadow: 0 1px 2px rgba(60, 64, 67, 0.3), 0 1px 3px 1px rgba(60, 64, 67, 0.15);\n",
              "    fill: var(--button-hover-fill-color);\n",
              "  }\n",
              "\n",
              "  .colab-df-quickchart-complete:disabled,\n",
              "  .colab-df-quickchart-complete:disabled:hover {\n",
              "    background-color: var(--disabled-bg-color);\n",
              "    fill: var(--disabled-fill-color);\n",
              "    box-shadow: none;\n",
              "  }\n",
              "\n",
              "  .colab-df-spinner {\n",
              "    border: 2px solid var(--fill-color);\n",
              "    border-color: transparent;\n",
              "    border-bottom-color: var(--fill-color);\n",
              "    animation:\n",
              "      spin 1s steps(1) infinite;\n",
              "  }\n",
              "\n",
              "  @keyframes spin {\n",
              "    0% {\n",
              "      border-color: transparent;\n",
              "      border-bottom-color: var(--fill-color);\n",
              "      border-left-color: var(--fill-color);\n",
              "    }\n",
              "    20% {\n",
              "      border-color: transparent;\n",
              "      border-left-color: var(--fill-color);\n",
              "      border-top-color: var(--fill-color);\n",
              "    }\n",
              "    30% {\n",
              "      border-color: transparent;\n",
              "      border-left-color: var(--fill-color);\n",
              "      border-top-color: var(--fill-color);\n",
              "      border-right-color: var(--fill-color);\n",
              "    }\n",
              "    40% {\n",
              "      border-color: transparent;\n",
              "      border-right-color: var(--fill-color);\n",
              "      border-top-color: var(--fill-color);\n",
              "    }\n",
              "    60% {\n",
              "      border-color: transparent;\n",
              "      border-right-color: var(--fill-color);\n",
              "    }\n",
              "    80% {\n",
              "      border-color: transparent;\n",
              "      border-right-color: var(--fill-color);\n",
              "      border-bottom-color: var(--fill-color);\n",
              "    }\n",
              "    90% {\n",
              "      border-color: transparent;\n",
              "      border-bottom-color: var(--fill-color);\n",
              "    }\n",
              "  }\n",
              "</style>\n",
              "\n",
              "  <script>\n",
              "    async function quickchart(key) {\n",
              "      const quickchartButtonEl =\n",
              "        document.querySelector('#' + key + ' button');\n",
              "      quickchartButtonEl.disabled = true;  // To prevent multiple clicks.\n",
              "      quickchartButtonEl.classList.add('colab-df-spinner');\n",
              "      try {\n",
              "        const charts = await google.colab.kernel.invokeFunction(\n",
              "            'suggestCharts', [key], {});\n",
              "      } catch (error) {\n",
              "        console.error('Error during call to suggestCharts:', error);\n",
              "      }\n",
              "      quickchartButtonEl.classList.remove('colab-df-spinner');\n",
              "      quickchartButtonEl.classList.add('colab-df-quickchart-complete');\n",
              "    }\n",
              "    (() => {\n",
              "      let quickchartButtonEl =\n",
              "        document.querySelector('#df-6fb2d2eb-49cd-4cb1-9e6a-cf510d1403d9 button');\n",
              "      quickchartButtonEl.style.display =\n",
              "        google.colab.kernel.accessAllowed ? 'block' : 'none';\n",
              "    })();\n",
              "  </script>\n",
              "</div>\n",
              "\n",
              "  <div id=\"id_a2162df9-2a30-4551-80e2-e37b7584b57d\">\n",
              "    <style>\n",
              "      .colab-df-generate {\n",
              "        background-color: #E8F0FE;\n",
              "        border: none;\n",
              "        border-radius: 50%;\n",
              "        cursor: pointer;\n",
              "        display: none;\n",
              "        fill: #1967D2;\n",
              "        height: 32px;\n",
              "        padding: 0 0 0 0;\n",
              "        width: 32px;\n",
              "      }\n",
              "\n",
              "      .colab-df-generate:hover {\n",
              "        background-color: #E2EBFA;\n",
              "        box-shadow: 0px 1px 2px rgba(60, 64, 67, 0.3), 0px 1px 3px 1px rgba(60, 64, 67, 0.15);\n",
              "        fill: #174EA6;\n",
              "      }\n",
              "\n",
              "      [theme=dark] .colab-df-generate {\n",
              "        background-color: #3B4455;\n",
              "        fill: #D2E3FC;\n",
              "      }\n",
              "\n",
              "      [theme=dark] .colab-df-generate:hover {\n",
              "        background-color: #434B5C;\n",
              "        box-shadow: 0px 1px 3px 1px rgba(0, 0, 0, 0.15);\n",
              "        filter: drop-shadow(0px 1px 2px rgba(0, 0, 0, 0.3));\n",
              "        fill: #FFFFFF;\n",
              "      }\n",
              "    </style>\n",
              "    <button class=\"colab-df-generate\" onclick=\"generateWithVariable('detailed_grid_results')\"\n",
              "            title=\"Generate code using this dataframe.\"\n",
              "            style=\"display:none;\">\n",
              "\n",
              "  <svg xmlns=\"http://www.w3.org/2000/svg\" height=\"24px\"viewBox=\"0 0 24 24\"\n",
              "       width=\"24px\">\n",
              "    <path d=\"M7,19H8.4L18.45,9,17,7.55,7,17.6ZM5,21V16.75L18.45,3.32a2,2,0,0,1,2.83,0l1.4,1.43a1.91,1.91,0,0,1,.58,1.4,1.91,1.91,0,0,1-.58,1.4L9.25,21ZM18.45,9,17,7.55Zm-12,3A5.31,5.31,0,0,0,4.9,8.1,5.31,5.31,0,0,0,1,6.5,5.31,5.31,0,0,0,4.9,4.9,5.31,5.31,0,0,0,6.5,1,5.31,5.31,0,0,0,8.1,4.9,5.31,5.31,0,0,0,12,6.5,5.46,5.46,0,0,0,6.5,12Z\"/>\n",
              "  </svg>\n",
              "    </button>\n",
              "    <script>\n",
              "      (() => {\n",
              "      const buttonEl =\n",
              "        document.querySelector('#id_a2162df9-2a30-4551-80e2-e37b7584b57d button.colab-df-generate');\n",
              "      buttonEl.style.display =\n",
              "        google.colab.kernel.accessAllowed ? 'block' : 'none';\n",
              "\n",
              "      buttonEl.onclick = () => {\n",
              "        google.colab.notebook.generateWithVariable('detailed_grid_results');\n",
              "      }\n",
              "      })();\n",
              "    </script>\n",
              "  </div>\n",
              "\n",
              "    </div>\n",
              "  </div>\n"
            ],
            "application/vnd.google.colaboratory.intrinsic+json": {
              "type": "dataframe",
              "variable_name": "detailed_grid_results",
              "summary": "{\n  \"name\": \"detailed_grid_results\",\n  \"rows\": 6,\n  \"fields\": [\n    {\n      \"column\": \"mean_fit_time\",\n      \"properties\": {\n        \"dtype\": \"number\",\n        \"std\": 24.61462206054568,\n        \"min\": 0.13227376937866211,\n        \"max\": 58.46295142173767,\n        \"num_unique_values\": 6,\n        \"samples\": [\n          0.3397165298461914,\n          0.13373088836669922,\n          31.310906600952148\n        ],\n        \"semantic_type\": \"\",\n        \"description\": \"\"\n      }\n    },\n    {\n      \"column\": \"std_fit_time\",\n      \"properties\": {\n        \"dtype\": \"number\",\n        \"std\": 2.96169773229571,\n        \"min\": 0.003102425146421697,\n        \"max\": 6.8044265108557145,\n        \"num_unique_values\": 6,\n        \"samples\": [\n          0.07683986569371952,\n          0.0035357655500954594,\n          4.290599806397588\n        ],\n        \"semantic_type\": \"\",\n        \"description\": \"\"\n      }\n    },\n    {\n      \"column\": \"mean_score_time\",\n      \"properties\": {\n        \"dtype\": \"number\",\n        \"std\": 0.0007574535291190865,\n        \"min\": 0.0016779422760009766,\n        \"max\": 0.003597116470336914,\n        \"num_unique_values\": 6,\n        \"samples\": [\n          0.0016779422760009766,\n          0.0017234325408935548,\n          0.003597116470336914\n        ],\n        \"semantic_type\": \"\",\n        \"description\": \"\"\n      }\n    },\n    {\n      \"column\": \"std_score_time\",\n      \"properties\": {\n        \"dtype\": \"number\",\n        \"std\": 0.0010593859096406982,\n        \"min\": 8.298139379632694e-05,\n        \"max\": 0.0027256133824710696,\n        \"num_unique_values\": 6,\n        \"samples\": [\n          9.13260056505565e-05,\n          0.00012202062564173121,\n          0.0027256133824710696\n        ],\n        \"semantic_type\": \"\",\n        \"description\": \"\"\n      }\n    },\n    {\n      \"column\": \"param_criterion\",\n      \"properties\": {\n        \"dtype\": \"string\",\n        \"num_unique_values\": 3,\n        \"samples\": [\n          \"squared_error\",\n          \"friedman_mse\",\n          \"absolute_error\"\n        ],\n        \"semantic_type\": \"\",\n        \"description\": \"\"\n      }\n    },\n    {\n      \"column\": \"param_splitter\",\n      \"properties\": {\n        \"dtype\": \"category\",\n        \"num_unique_values\": 2,\n        \"samples\": [\n          \"random\",\n          \"best\"\n        ],\n        \"semantic_type\": \"\",\n        \"description\": \"\"\n      }\n    },\n    {\n      \"column\": \"params\",\n      \"properties\": {\n        \"dtype\": \"object\",\n        \"semantic_type\": \"\",\n        \"description\": \"\"\n      }\n    },\n    {\n      \"column\": \"split0_test_score\",\n      \"properties\": {\n        \"dtype\": \"number\",\n        \"std\": 0.1240655922512259,\n        \"min\": -0.6249525574480228,\n        \"max\": -0.30331823024230387,\n        \"num_unique_values\": 5,\n        \"samples\": [\n          -0.30331823024230387,\n          -0.5746097931897363\n        ],\n        \"semantic_type\": \"\",\n        \"description\": \"\"\n      }\n    },\n    {\n      \"column\": \"split1_test_score\",\n      \"properties\": {\n        \"dtype\": \"number\",\n        \"std\": 0.10474704778243543,\n        \"min\": -0.6557175800503092,\n        \"max\": -0.373238736156591,\n        \"num_unique_values\": 5,\n        \"samples\": [\n          -0.373238736156591,\n          -0.42637832065144887\n        ],\n        \"semantic_type\": \"\",\n        \"description\": \"\"\n      }\n    },\n    {\n      \"column\": \"split2_test_score\",\n      \"properties\": {\n        \"dtype\": \"number\",\n        \"std\": 0.1231458720411822,\n        \"min\": -0.5774066134263078,\n        \"max\": -0.29772458976916094,\n        \"num_unique_values\": 6,\n        \"samples\": [\n          -0.3173023314251613,\n          -0.32848961237144714\n        ],\n        \"semantic_type\": \"\",\n        \"description\": \"\"\n      }\n    },\n    {\n      \"column\": \"split3_test_score\",\n      \"properties\": {\n        \"dtype\": \"number\",\n        \"std\": 0.10729612423821458,\n        \"min\": -0.5885938943725939,\n        \"max\": -0.3396768933177332,\n        \"num_unique_values\": 6,\n        \"samples\": [\n          -0.37603555639316233,\n          -0.39001965757601975\n        ],\n        \"semantic_type\": \"\",\n        \"description\": \"\"\n      }\n    },\n    {\n      \"column\": \"split4_test_score\",\n      \"properties\": {\n        \"dtype\": \"number\",\n        \"std\": 0.1432825683647957,\n        \"min\": -0.6277493776845942,\n        \"max\": -0.25297546598401754,\n        \"num_unique_values\": 6,\n        \"samples\": [\n          -0.25297546598401754,\n          -0.28933412905944667\n        ],\n        \"semantic_type\": \"\",\n        \"description\": \"\"\n      }\n    },\n    {\n      \"column\": \"mean_test_score\",\n      \"properties\": {\n        \"dtype\": \"number\",\n        \"std\": 0.11290547717744348,\n        \"min\": -0.6109684562651655,\n        \"max\": -0.3368800730811617,\n        \"num_unique_values\": 6,\n        \"samples\": [\n          -0.35477972259521906,\n          -0.3368800730811617\n        ],\n        \"semantic_type\": \"\",\n        \"description\": \"\"\n      }\n    },\n    {\n      \"column\": \"std_test_score\",\n      \"properties\": {\n        \"dtype\": \"number\",\n        \"std\": 0.01334983075129145,\n        \"min\": 0.03275982770677297,\n        \"max\": 0.06302223430273503,\n        \"num_unique_values\": 6,\n        \"samples\": [\n          0.06300237226810929,\n          0.038995337514878006\n        ],\n        \"semantic_type\": \"\",\n        \"description\": \"\"\n      }\n    },\n    {\n      \"column\": \"rank_test_score\",\n      \"properties\": {\n        \"dtype\": \"int32\",\n        \"num_unique_values\": 6,\n        \"samples\": [\n          3,\n          1\n        ],\n        \"semantic_type\": \"\",\n        \"description\": \"\"\n      }\n    }\n  ]\n}"
            }
          },
          "metadata": {},
          "execution_count": 36
        }
      ]
    },
    {
      "cell_type": "code",
      "source": [
        "def display_test_scores(test, pred):\n",
        "    str_out = \"\"\n",
        "    str_out += (\"TEST SCORES\\n\")\n",
        "    str_out += (\"\\n\")\n",
        "\n",
        "    #print AUC score\n",
        "    auc = roc_auc_score(test, pred)\n",
        "    str_out += (\"AUC: {:.4f}\\n\".format(auc))\n",
        "    str_out += (\"\\n\")\n",
        "\n",
        "    false_indexes = np.where(test != pred)\n",
        "    return str_out, false_indexes"
      ],
      "metadata": {
        "id": "nlK9WYnrViOD"
      },
      "execution_count": 39,
      "outputs": []
    },
    {
      "cell_type": "code",
      "source": [
        "y_pred=grid.predict(X_test)\n",
        "result,false=display_test_scores(y_test,y_pred)\n",
        "print(result)"
      ],
      "metadata": {
        "colab": {
          "base_uri": "https://localhost:8080/"
        },
        "id": "EfpqhkCvWdqJ",
        "outputId": "b308d49f-875e-4b03-bf99-f14bfbec4364"
      },
      "execution_count": 40,
      "outputs": [
        {
          "output_type": "stream",
          "name": "stdout",
          "text": [
            "TEST SCORES\n",
            "\n",
            "AUC: 0.6767\n",
            "\n",
            "\n"
          ]
        }
      ]
    },
    {
      "cell_type": "markdown",
      "source": [
        "# **Regressor_2 : Bayesian_Ridge**"
      ],
      "metadata": {
        "id": "_FSquChJWlLq"
      }
    },
    {
      "cell_type": "code",
      "source": [
        "clf_ridge=linear_model.BayesianRidge()\n",
        "\n",
        "parameters={\n",
        "    'alpha_init':[None,1],\n",
        "    'lambda_init':[1,1e-3],\n",
        "}\n",
        "\n",
        "grid=GridSearchCV(estimator=clf_ridge,param_grid=parameters,cv=cv,n_jobs=-1)\n",
        "grid.fit(X_train,y_train)\n",
        "\n",
        "print(\"the best Parameters are %s with score of %0.4f\"\n",
        "      %(grid.best_params_,grid.best_score_))\n",
        "\n",
        "y_pred=grid.predict(X_test)\n",
        "result,false=display_test_scores(y_test,y_pred)\n",
        "print(result)"
      ],
      "metadata": {
        "colab": {
          "base_uri": "https://localhost:8080/"
        },
        "id": "--rJgMs4WplE",
        "outputId": "b9230733-93fa-4de5-c19d-3ebf456b88dd"
      },
      "execution_count": 42,
      "outputs": [
        {
          "output_type": "stream",
          "name": "stdout",
          "text": [
            "the best Parameters are {'alpha_init': None, 'lambda_init': 0.001} with score of 0.2750\n",
            "TEST SCORES\n",
            "\n",
            "AUC: 0.8517\n",
            "\n",
            "\n"
          ]
        }
      ]
    },
    {
      "cell_type": "markdown",
      "source": [
        "# **Regressor-3:SVR**"
      ],
      "metadata": {
        "id": "itFLbeI3XMP_"
      }
    },
    {
      "cell_type": "code",
      "source": [
        "regr = SVR(C=1.0, epsilon=0.2)\n",
        "parameters={\n",
        "    'kernel':['linear','poly', 'rbf', 'sigmoid'],\n",
        "    'C':[0.01,0.1,1,10],\n",
        "    'max_iter':[100,1000]\n",
        "}\n",
        "\n",
        "grid=GridSearchCV(estimator=regr,param_grid=parameters,cv=cv,n_jobs=-1)\n",
        "grid.fit(X_train,y_train)\n",
        "\n",
        "print(\"the best Parameters are %s with score of %0.4f\"\n",
        "      %(grid.best_params_,grid.best_score_))\n",
        "\n",
        "y_pred=grid.predict(X_test)\n",
        "result,false=display_test_scores(y_test,y_pred)\n",
        "print(result)"
      ],
      "metadata": {
        "colab": {
          "base_uri": "https://localhost:8080/"
        },
        "id": "Ve_xQ2kbXI3k",
        "outputId": "8612a8f3-1cab-4a81-f0cc-978123cb552f"
      },
      "execution_count": 43,
      "outputs": [
        {
          "output_type": "stream",
          "name": "stderr",
          "text": [
            "/usr/local/lib/python3.10/dist-packages/sklearn/svm/_base.py:299: ConvergenceWarning: Solver terminated early (max_iter=1000).  Consider pre-processing your data with StandardScaler or MinMaxScaler.\n",
            "  warnings.warn(\n"
          ]
        },
        {
          "output_type": "stream",
          "name": "stdout",
          "text": [
            "the best Parameters are {'C': 0.1, 'kernel': 'poly', 'max_iter': 1000} with score of 0.0214\n",
            "TEST SCORES\n",
            "\n",
            "AUC: 0.7211\n",
            "\n",
            "\n"
          ]
        }
      ]
    },
    {
      "cell_type": "markdown",
      "source": [
        "# **Regressor_4:SGDRegressor**"
      ],
      "metadata": {
        "id": "HPSGR3rtYicL"
      }
    },
    {
      "cell_type": "code",
      "source": [
        "reg=SGDRegressor( tol=1e-3)\n",
        "parameters = {\n",
        "                'alpha': [0.0001, 0.001, 0.01, 1],\n",
        "                'max_iter': [10,100,1000],\n",
        "                'learning_rate': ['invscaling', 'optimal', 'adaptive'],\n",
        "            }\n",
        "grid=GridSearchCV(estimator=reg,param_grid=parameters,cv=cv,n_jobs=-1)\n",
        "grid.fit(X_train,y_train)\n",
        "\n",
        "print(\"the best Parameters are %s with score of %0.4f\"\n",
        "      %(grid.best_params_,grid.best_score_))\n",
        "\n",
        "y_pred=grid.predict(X_test)\n",
        "result,false=display_test_scores(y_test,y_pred)\n",
        "print(result)"
      ],
      "metadata": {
        "colab": {
          "base_uri": "https://localhost:8080/"
        },
        "id": "EA1YvswhYocE",
        "outputId": "9e7fe2e6-9ea6-4ac5-9985-523f3241a624"
      },
      "execution_count": 45,
      "outputs": [
        {
          "output_type": "stream",
          "name": "stdout",
          "text": [
            "the best Parameters are {'alpha': 0.0001, 'learning_rate': 'adaptive', 'max_iter': 1000} with score of 0.2751\n",
            "TEST SCORES\n",
            "\n",
            "AUC: 0.8518\n",
            "\n",
            "\n"
          ]
        }
      ]
    },
    {
      "cell_type": "markdown",
      "source": [
        "# **Regressor-5 : RandomForestRegressor**"
      ],
      "metadata": {
        "id": "zo_EHVIiZV7j"
      }
    },
    {
      "cell_type": "code",
      "source": [
        "rfr=RandomForestRegressor(random_state=0)\n",
        "parameters={\n",
        "    'n_estimators':[20,50,100],\n",
        "}\n",
        "grid=GridSearchCV(estimator=rfr,param_grid=parameters,cv=cv,n_jobs=-1)\n",
        "grid.fit(X_train,y_train)\n",
        "\n",
        "print(\"the best Parameters are %s with score of %0.4f\"\n",
        "      %(grid.best_params_,grid.best_score_))\n",
        "\n",
        "y_pred=grid.predict(X_test)\n",
        "result,false=display_test_scores(y_test,y_pred)\n",
        "print(result)"
      ],
      "metadata": {
        "colab": {
          "base_uri": "https://localhost:8080/"
        },
        "id": "GmnI82mKZblT",
        "outputId": "f8d0a999-8871-41b8-8b22-2866faa8e4ac"
      },
      "execution_count": 46,
      "outputs": [
        {
          "output_type": "stream",
          "name": "stdout",
          "text": [
            "the best Parameters are {'n_estimators': 100} with score of 0.3224\n",
            "TEST SCORES\n",
            "\n",
            "AUC: 0.8612\n",
            "\n",
            "\n"
          ]
        }
      ]
    },
    {
      "cell_type": "markdown",
      "source": [
        "# **T-Test**"
      ],
      "metadata": {
        "id": "KUhfRGoJaWBR"
      }
    },
    {
      "cell_type": "code",
      "source": [
        "from sklearn.model_selection import StratifiedShuffleSplit\n",
        "from sklearn.metrics import mean_absolute_error\n",
        "from scipy import stats\n"
      ],
      "metadata": {
        "id": "u8i-imRhaXq3"
      },
      "execution_count": 51,
      "outputs": []
    },
    {
      "cell_type": "code",
      "source": [
        "from sklearn.model_selection import KFold\n",
        "from sklearn.ensemble import RandomForestRegressor\n",
        "from sklearn.linear_model import SGDRegressor\n",
        "from sklearn.linear_model import BayesianRidge\n",
        "from sklearn.metrics import mean_absolute_error\n",
        "import numpy as np\n",
        "\n",
        "model_1 = RandomForestRegressor(n_estimators=100, random_state=0)\n",
        "model_2 = SGDRegressor(alpha=0.001, learning_rate='adaptive', max_iter=100)\n",
        "model_3 = BayesianRidge(lambda_init=0.001)\n",
        "\n",
        "\n",
        "n_splits = 5\n",
        "kf = KFold(n_splits=n_splits, shuffle=True, random_state=42)\n",
        "\n",
        "\n",
        "cv_mae_1 = []\n",
        "cv_mae_2 = []\n",
        "cv_mae_3 = []\n",
        "\n",
        "# Cross-validation loop\n",
        "for train_index, test_index in kf.split(X):\n",
        "    X_train, X_test = X[train_index], X[test_index]\n",
        "    y_train, y_test = y[train_index], y[test_index]\n",
        "\n",
        "    # Model 1: RandomForestRegressor\n",
        "    model_1.fit(X_train, y_train)\n",
        "    pred_1 = model_1.predict(X_test)\n",
        "    err_1 = mean_absolute_error(y_test, pred_1)\n",
        "    cv_mae_1.append(err_1)\n",
        "\n",
        "    # Model 2: SGDRegressor\n",
        "    model_2.fit(X_train, y_train)\n",
        "    pred_2 = model_2.predict(X_test)\n",
        "    err_2 = mean_absolute_error(y_test, pred_2)\n",
        "    cv_mae_2.append(err_2)\n",
        "\n",
        "    # Model 3: BayesianRidge\n",
        "    model_3.fit(X_train, y_train)\n",
        "    pred_3 = model_3.predict(X_test)\n",
        "    err_3 = mean_absolute_error(y_test, pred_3)\n",
        "    cv_mae_3.append(err_3)\n",
        "\n",
        "\n",
        "print(\"CV MAE for RandomForestRegressor: \", cv_mae_1)\n",
        "print(\"CV MAE for SGDRegressor: \", cv_mae_2)\n",
        "print(\"CV MAE for BayesianRidge: \", cv_mae_3)\n"
      ],
      "metadata": {
        "colab": {
          "base_uri": "https://localhost:8080/"
        },
        "id": "SpQKfAAjabl3",
        "outputId": "ff3053a2-2df4-4e32-daba-a9f098cc8a6e"
      },
      "execution_count": 58,
      "outputs": [
        {
          "output_type": "stream",
          "name": "stdout",
          "text": [
            "CV MAE for RandomForestRegressor:  [0.2261194309247473, 0.2308629726694122, 0.22760344504774388, 0.2322299194907321, 0.22618423516195468]\n",
            "CV MAE for SGDRegressor:  [0.26358235818860143, 0.2720081510500753, 0.2653004603844399, 0.2681791943640235, 0.2618986056252351]\n",
            "CV MAE for BayesianRidge:  [0.2637352565503448, 0.27200114709726925, 0.26532253123474414, 0.26826235933346115, 0.26195495933259155]\n"
          ]
        }
      ]
    },
    {
      "cell_type": "code",
      "source": [
        "from scipy import stats\n",
        "print(stats.ttest_rel(cv_mae_1, cv_mae_2))\n",
        "print(stats.ttest_rel(cv_mae_3, cv_mae_2))\n",
        "print(stats.ttest_rel(cv_mae_3, cv_mae_1))"
      ],
      "metadata": {
        "colab": {
          "base_uri": "https://localhost:8080/"
        },
        "id": "Q8JHBbZudcT2",
        "outputId": "fafb74d9-513c-4b33-89f0-2b0e7ed279f2"
      },
      "execution_count": 60,
      "outputs": [
        {
          "output_type": "stream",
          "name": "stdout",
          "text": [
            "TtestResult(statistic=-38.6960502428155, pvalue=2.6641188692193364e-06, df=4)\n",
            "TtestResult(statistic=2.238322187322946, pvalue=0.08878701591868589, df=4)\n",
            "TtestResult(statistic=39.342494168737694, pvalue=2.493649765252259e-06, df=4)\n"
          ]
        }
      ]
    },
    {
      "cell_type": "code",
      "source": [
        "rfr=RandomForestRegressor(n_estimators=100,random_state=0)\n",
        "rfr.fit(X,y)\n",
        "y_pred=rfr.predict(X_test)\n"
      ],
      "metadata": {
        "id": "P-2FBW2Ld5UI"
      },
      "execution_count": 61,
      "outputs": []
    },
    {
      "cell_type": "code",
      "source": [
        "import numpy as np\n",
        "np.sum(np.logical_or(np.array(y_pred) > 1, np.array(y_pred) < 0), axis=0)"
      ],
      "metadata": {
        "colab": {
          "base_uri": "https://localhost:8080/"
        },
        "id": "kqpBpy0id8z6",
        "outputId": "dd9d18eb-6f24-442f-c730-904f56061585"
      },
      "execution_count": 63,
      "outputs": [
        {
          "output_type": "execute_result",
          "data": {
            "text/plain": [
              "0"
            ]
          },
          "metadata": {},
          "execution_count": 63
        }
      ]
    },
    {
      "cell_type": "code",
      "source": [
        "y_pred[:10]"
      ],
      "metadata": {
        "colab": {
          "base_uri": "https://localhost:8080/"
        },
        "id": "b_-_M3-2eRLW",
        "outputId": "32447e9d-d3e1-439a-be40-c771321e0578"
      },
      "execution_count": 65,
      "outputs": [
        {
          "output_type": "execute_result",
          "data": {
            "text/plain": [
              "array([0.13, 0.83, 0.08, 0.72, 0.16, 0.05, 0.16, 0.02, 0.13, 0.71])"
            ]
          },
          "metadata": {},
          "execution_count": 65
        }
      ]
    },
    {
      "cell_type": "markdown",
      "source": [
        "# **Converting to csv**"
      ],
      "metadata": {
        "id": "qt7IL0VIgAi9"
      }
    },
    {
      "cell_type": "code",
      "source": [
        "df_pred_xyz=pd.DataFrame(y_pred,columns=['xyz_vaccine'])\n",
        "df_pred_xyz[\"respondent_id\"]=df_pred_xyz.index\n",
        "df_pred_xyz=df_pred_xyz[['respondent_id','xyz_vaccine']]\n",
        "\n",
        "df_pred_xyz.to_csv('pred_xyz_vaccine.csv',index=False)"
      ],
      "metadata": {
        "id": "xYDhKgOyeixS"
      },
      "execution_count": 67,
      "outputs": []
    }
  ]
}